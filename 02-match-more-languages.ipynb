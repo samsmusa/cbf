{
  "cells": [
    {
      "cell_type": "markdown",
      "metadata": {
        "id": "OLuhwJHE9eAj"
      },
      "source": [
        "We start the previous notebook with this code. Let's give it another spin."
      ]
    },
    {
      "cell_type": "code",
      "execution_count": null,
      "metadata": {
        "id": "EttuClf99eAq"
      },
      "outputs": [],
      "source": [
        "import spacy\n",
        "import pandas as pd\n",
        "from spacy import displacy"
      ]
    },
    {
      "cell_type": "code",
      "execution_count": null,
      "metadata": {
        "id": "l-a_viE89eAy"
      },
      "outputs": [],
      "source": [
        "nlp = spacy.load(\"en_core_web_sm\")"
      ]
    },
    {
      "cell_type": "code",
      "execution_count": null,
      "metadata": {
        "id": "jDdNuLUg9eA0"
      },
      "outputs": [],
      "source": [
        "def has_go_token(doc):\n",
        "    for t in doc:\n",
        "        if t.lower_ in ['go', 'golang', 'python', 'ruby', 'objective-c']:\n",
        "            if t.pos_ != 'VERB':\n",
        "                return True\n",
        "    return False"
      ]
    },
    {
      "cell_type": "code",
      "execution_count": null,
      "metadata": {
        "id": "QUt22Txz9eA2"
      },
      "outputs": [],
      "source": [
        "doc = nlp(\"i am an iOS dev and I like to code in objective-c\")"
      ]
    },
    {
      "cell_type": "code",
      "execution_count": null,
      "metadata": {
        "id": "D8cGpiUS9eA2",
        "outputId": "6ed192f1-f9e7-4722-f68c-6861b14a3fa6"
      },
      "outputs": [
        {
          "data": {
            "text/plain": [
              "[i, am, an, iOS, dev, and, I, like, to, code, in, objective, -, c]"
            ]
          },
          "execution_count": 5,
          "metadata": {},
          "output_type": "execute_result"
        }
      ],
      "source": [
        "[t for t in doc]"
      ]
    },
    {
      "cell_type": "markdown",
      "metadata": {
        "id": "mh5qzBaq9eA4"
      },
      "source": [
        "Our current approach won't work for languages with more than one token. So instead I'll need to use matchers instead. There's a bunch of them applied below."
      ]
    },
    {
      "cell_type": "code",
      "execution_count": null,
      "metadata": {
        "id": "HEvNT2PN9eA5"
      },
      "outputs": [],
      "source": [
        "from spacy.matcher import Matcher"
      ]
    },
    {
      "cell_type": "code",
      "execution_count": null,
      "metadata": {
        "id": "a67blXnP9eA6"
      },
      "outputs": [],
      "source": [
        "obj_c_pattern1 = [{'LOWER': 'objective'},\n",
        "                  {'IS_PUNCT': True, 'OP': '?'},\n",
        "                  {'LOWER': 'c'}]\n",
        "\n",
        "obj_c_pattern2 = [{'LOWER': 'objectivec'}]\n",
        "\n",
        "golang_pattern1 = [{'LOWER': 'golang'}] \n",
        "golang_pattern2 = [{'LOWER': 'go', \n",
        "                    'POS': {'NOT_IN': ['VERB']}}]\n",
        "\n",
        "python_pattern = [{'LOWER': 'python'}]\n",
        "ruby_pattern   = [{'LOWER': 'ruby'}]\n",
        "js_pattern     = [{'LOWER': {'IN': ['js', 'javascript']}}]"
      ]
    },
    {
      "cell_type": "code",
      "execution_count": null,
      "metadata": {
        "id": "xOJfjL4F9eA7"
      },
      "outputs": [],
      "source": [
        "matcher = Matcher(nlp.vocab, validate=True)\n",
        "matcher.add(\"OBJ_C_LANG\", None, obj_c_pattern1, obj_c_pattern2)\n",
        "matcher.add(\"PYTHON_LANG\", None, python_pattern)\n",
        "matcher.add(\"GO_LANG\", None, golang_pattern1, golang_pattern2)\n",
        "matcher.add(\"JS_LANG\", None, js_pattern)\n",
        "matcher.add(\"RUBY_LANG\", None, ruby_pattern)"
      ]
    },
    {
      "cell_type": "code",
      "execution_count": null,
      "metadata": {
        "id": "lhmRANNy9eA8",
        "outputId": "cec4e63f-c78f-4901-ad03-d1774957044c"
      },
      "outputs": [
        {
          "name": "stdout",
          "output_type": "stream",
          "text": [
            "python\n",
            "golang\n",
            "objective-c\n"
          ]
        }
      ],
      "source": [
        "doc = nlp(\"I am an iOS dev who codes in both python, go/golang as well as objective-c\")\n",
        "for match_id, start, end in matcher(doc):\n",
        "    print(doc[start: end])"
      ]
    },
    {
      "cell_type": "code",
      "execution_count": null,
      "metadata": {
        "id": "VR_SEQXu9eA9",
        "outputId": "9a445bea-a178-4730-f7ff-512d9f01055f"
      },
      "outputs": [
        {
          "name": "stdout",
          "output_type": "stream",
          "text": [
            "js\n",
            "ruby\n"
          ]
        }
      ],
      "source": [
        "doc = nlp(\"I've done some js and ruby and go programming\")\n",
        "for match_id, start, end in matcher(doc):\n",
        "    print(doc[start: end])"
      ]
    },
    {
      "cell_type": "markdown",
      "metadata": {
        "id": "-ofzjK2L9eA-"
      },
      "source": [
        "## Benchmarking\n",
        "\n",
        "Our current approach works, but it would be good to confirm this with data. I'll do a soft benchmark; I'll check for the occurence of a string, like \"objective\", and I'll see which instances my matcher does not pick up. If there's stuff that I am missing I should get a pretty clear picture of it. "
      ]
    },
    {
      "cell_type": "code",
      "execution_count": null,
      "metadata": {
        "id": "LwJliJ7L9eA_"
      },
      "outputs": [],
      "source": [
        "import pandas as pd\n",
        "\n",
        "df = (pd.read_csv(\"Questions.csv\", nrows=1_000_000, \n",
        "                  encoding=\"ISO-8859-1\", usecols=['Title', 'Id']))"
      ]
    },
    {
      "cell_type": "code",
      "execution_count": null,
      "metadata": {
        "id": "yZ0HLIUV9eBA"
      },
      "outputs": [],
      "source": [
        "titles = (_ for _ in df['Title'] if \"python\" in _.lower())"
      ]
    },
    {
      "cell_type": "code",
      "execution_count": null,
      "metadata": {
        "id": "s9lYzkIX9eBA",
        "outputId": "a375f1d2-ac16-4e33-ba01-2f9924d0a846"
      },
      "outputs": [
        {
          "name": "stdout",
          "output_type": "stream",
          "text": [
            "mod_python/MySQL error on INSERT with a lot of data: \"OperationalError: (2006, 'MySQL server has gone away')\"\n",
            "Running subversion under apache and mod_python\n",
            "What's the best way to embed IronPython inside my C# App?\n",
            "How to set the PYTHONPATH in Emacs?\n",
            "wxPython wxDC object from win32gui.GetDC\n",
            "Need skeleton code to call Excel VBA from PythonWin\n",
            "Questions for python->scheme conversion\n",
            "wxPython and sharing objects between windows\n",
            "Django on IronPython\n",
            "IronPython Webframework\n",
            "A SuggestBox for wxPython?\n",
            "Intercepting Method Access on the Host Program of IronPython\n",
            "Is there anything like IPython / IRB for Perl?\n"
          ]
        }
      ],
      "source": [
        "for i in range(200):\n",
        "    doc = nlp(next(titles))\n",
        "    if len(matcher(doc)) == 0:\n",
        "        print(doc)"
      ]
    },
    {
      "cell_type": "markdown",
      "metadata": {
        "id": "2RHVEo7s9eBD"
      },
      "source": [
        "I've used this benchmark to find some mistakes but this is another milestone for now. The next step; prepare the dataset for machine learning."
      ]
    }
  ],
  "metadata": {
    "kernelspec": {
      "display_name": "Python 3",
      "language": "python",
      "name": "python3"
    },
    "language_info": {
      "codemirror_mode": {
        "name": "ipython",
        "version": 3
      },
      "file_extension": ".py",
      "mimetype": "text/x-python",
      "name": "python",
      "nbconvert_exporter": "python",
      "pygments_lexer": "ipython3",
      "version": "3.6.6"
    },
    "colab": {
      "provenance": []
    }
  },
  "nbformat": 4,
  "nbformat_minor": 0
}